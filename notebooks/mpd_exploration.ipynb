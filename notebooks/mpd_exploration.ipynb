{
 "cells": [
  {
   "cell_type": "code",
   "execution_count": 1,
   "metadata": {},
   "outputs": [],
   "source": [
    "import os\n",
    "os.chdir(\"..\")\n",
    "import pandas as pd\n",
    "\n",
    "outcomes = pd.read_pickle(\"data/outcomes_concat.pkl\")\n",
    "stns = pd.read_pickle(\"data/stop_and_search_concat.pkl\")\n",
    "street = pd.read_pickle(\"data/street_concat.pkl\")"
   ]
  },
  {
   "cell_type": "code",
   "execution_count": 40,
   "metadata": {},
   "outputs": [],
   "source": [
    "highest_crime_outcome = street[\"Crime ID\"].value_counts() > 1"
   ]
  },
  {
   "cell_type": "code",
   "execution_count": 38,
   "metadata": {},
   "outputs": [
    {
     "ename": "TypeError",
     "evalue": "unhashable type: 'Series'",
     "output_type": "error",
     "traceback": [
      "\u001b[0;31m---------------------------------------------------------------------------\u001b[0m",
      "\u001b[0;31mTypeError\u001b[0m                                 Traceback (most recent call last)",
      "Cell \u001b[0;32mIn[38], line 1\u001b[0m\n\u001b[0;32m----> 1\u001b[0m mask \u001b[38;5;241m=\u001b[39m \u001b[43mstreet\u001b[49m\u001b[43m[\u001b[49m\u001b[38;5;124;43m\"\u001b[39;49m\u001b[38;5;124;43mCrime ID\u001b[39;49m\u001b[38;5;124;43m\"\u001b[39;49m\u001b[43m]\u001b[49m\u001b[43m \u001b[49m\u001b[38;5;129;43;01min\u001b[39;49;00m\u001b[43m \u001b[49m\u001b[43mhighest_crime_outcome\u001b[49m\u001b[38;5;241;43m.\u001b[39;49m\u001b[43mindex\u001b[49m\n\u001b[1;32m      2\u001b[0m \u001b[38;5;28mprint\u001b[39m(street[mask]\u001b[38;5;241m.\u001b[39mto_string())\n",
      "File \u001b[0;32m~/.local/share/virtualenvs/DC1-WMMS7aKR/lib/python3.10/site-packages/pandas/core/indexes/base.py:5358\u001b[0m, in \u001b[0;36mIndex.__contains__\u001b[0;34m(self, key)\u001b[0m\n\u001b[1;32m   5323\u001b[0m \u001b[38;5;28;01mdef\u001b[39;00m \u001b[38;5;21m__contains__\u001b[39m(\u001b[38;5;28mself\u001b[39m, key: Any) \u001b[38;5;241m-\u001b[39m\u001b[38;5;241m>\u001b[39m \u001b[38;5;28mbool\u001b[39m:\n\u001b[1;32m   5324\u001b[0m \u001b[38;5;250m    \u001b[39m\u001b[38;5;124;03m\"\"\"\u001b[39;00m\n\u001b[1;32m   5325\u001b[0m \u001b[38;5;124;03m    Return a boolean indicating whether the provided key is in the index.\u001b[39;00m\n\u001b[1;32m   5326\u001b[0m \n\u001b[0;32m   (...)\u001b[0m\n\u001b[1;32m   5356\u001b[0m \u001b[38;5;124;03m    False\u001b[39;00m\n\u001b[1;32m   5357\u001b[0m \u001b[38;5;124;03m    \"\"\"\u001b[39;00m\n\u001b[0;32m-> 5358\u001b[0m     \u001b[38;5;28;43mhash\u001b[39;49m\u001b[43m(\u001b[49m\u001b[43mkey\u001b[49m\u001b[43m)\u001b[49m\n\u001b[1;32m   5359\u001b[0m     \u001b[38;5;28;01mtry\u001b[39;00m:\n\u001b[1;32m   5360\u001b[0m         \u001b[38;5;28;01mreturn\u001b[39;00m key \u001b[38;5;129;01min\u001b[39;00m \u001b[38;5;28mself\u001b[39m\u001b[38;5;241m.\u001b[39m_engine\n",
      "\u001b[0;31mTypeError\u001b[0m: unhashable type: 'Series'"
     ]
    }
   ],
   "source": [
    "mask = street[\"Crime ID\"].union(highest_crime_outcome.index)\n",
    "print(street[mask].to_string())"
   ]
  },
  {
   "cell_type": "code",
   "execution_count": 42,
   "metadata": {},
   "outputs": [
    {
     "data": {
      "text/plain": [
       "count\n",
       "False    8817216\n",
       "True      365057\n",
       "Name: count, dtype: int64"
      ]
     },
     "execution_count": 42,
     "metadata": {},
     "output_type": "execute_result"
    }
   ],
   "source": [
    "highest_crime_outcome.value_counts()"
   ]
  },
  {
   "cell_type": "code",
   "execution_count": 39,
   "metadata": {},
   "outputs": [
    {
     "data": {
      "text/plain": [
       "Crime ID                  9630501\n",
       "Month                    14131200\n",
       "Reported by              13581480\n",
       "Falls within             14131200\n",
       "Longitude                13968895\n",
       "Latitude                 13968895\n",
       "Location                 14131200\n",
       "LSOA code                13968895\n",
       "LSOA name                13968895\n",
       "Crime type               14131200\n",
       "Last outcome category     9569133\n",
       "Context                         0\n",
       "dtype: int64"
      ]
     },
     "execution_count": 39,
     "metadata": {},
     "output_type": "execute_result"
    }
   ],
   "source": [
    "street.count()"
   ]
  },
  {
   "cell_type": "code",
   "execution_count": 44,
   "metadata": {},
   "outputs": [],
   "source": [
    "svc = street[\"Crime ID\"].value_counts() "
   ]
  },
  {
   "cell_type": "code",
   "execution_count": 45,
   "metadata": {},
   "outputs": [
    {
     "data": {
      "text/plain": [
       "Index(['3ec3b6b52d94b9f729445aef4a80e3bab7fbe59932f10dfda61fb88f998c6a51',\n",
       "       '0c9cffa87482762f9fd0769a7ae5412df10f8f81de11cdc2883660ff4b959d22',\n",
       "       'fb28e7262e373126f15d95507becbd90d3ea7811077357cc9a745f95297837c2',\n",
       "       '490b595dc6eb4b0a3e1f8d7fa53d2be5460d146d8f133a8ee20ed3c3b7319bc3',\n",
       "       'b35ab2d8cf89bc68c67f61d2cd91458b5b15eaf7b33b8ef82a9b3f744461af61',\n",
       "       '9200e0c49ef5868112fbf5db398c3ab069143ceeaf5790d8ac83ac130f2475bc',\n",
       "       '521ae8cab238e744b489b17e36391e1de62fbfc03aff03215444836b23da2f7a',\n",
       "       '109dd7c20405e2c7239b702a88b96b628034914b4edb4b8053a75a81a93fa69c',\n",
       "       '459a973a05867f80e03e312219add2c2d68b13c962b6b0aff6a788114d046c9e',\n",
       "       '077db29e732f8fbfe793724d63483d23bef1990d3059ed42ed17d8cadcdc8eed',\n",
       "       ...\n",
       "       'e65ed54d1c18b855de0702701a8a55f5ca6d376a39f9b448305f883e01587032',\n",
       "       '18419998f3c9ff32b63400c9b28592018e15924308781988a74d06ea4e4c6ab1',\n",
       "       '6b8d247e57f5b8b97f15089d311b2433fbefc0af30df9b6ba07acf75f5f38568',\n",
       "       '6469511322c40cd6bd2d8f2bc322d1b622236463f495c58baafbb3c1f7144fc7',\n",
       "       '9064da89179e4a8d8d161849c7f06f30b84b95f674c4ae5b77df312410c8487b',\n",
       "       'eba5940be29e9f0af454d5973908bed9c640d4c66b200a5a35d977539ac47439',\n",
       "       '97d7656dabbaf2a0d0b71f2aef8655a23353634225c672fb0d02e96a3be35cc5',\n",
       "       'd0694d589ab00b49ba570bace3e9d2f7f9e419bc56524cc370ed7b8692828587',\n",
       "       '21c447789f7061c5be05d1ddd62248010d504117e1f2d3f75f114797ec188317',\n",
       "       '66ed6521dbc9929306dd972690938d796b2684b8bdc346f550fa77c519e133e7'],\n",
       "      dtype='object', name='Crime ID', length=365057)"
      ]
     },
     "execution_count": 45,
     "metadata": {},
     "output_type": "execute_result"
    }
   ],
   "source": [
    "svc[svc > 1].index"
   ]
  },
  {
   "cell_type": "code",
   "execution_count": null,
   "metadata": {},
   "outputs": [],
   "source": []
  }
 ],
 "metadata": {
  "kernelspec": {
   "display_name": "DC1-WMMS7aKR",
   "language": "python",
   "name": "python3"
  },
  "language_info": {
   "codemirror_mode": {
    "name": "ipython",
    "version": 3
   },
   "file_extension": ".py",
   "mimetype": "text/x-python",
   "name": "python",
   "nbconvert_exporter": "python",
   "pygments_lexer": "ipython3",
   "version": "3.10.12"
  }
 },
 "nbformat": 4,
 "nbformat_minor": 2
}
